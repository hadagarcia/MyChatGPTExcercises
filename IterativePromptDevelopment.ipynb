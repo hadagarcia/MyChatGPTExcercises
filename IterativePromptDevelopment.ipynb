{
  "nbformat": 4,
  "nbformat_minor": 0,
  "metadata": {
    "colab": {
      "provenance": [],
      "authorship_tag": "ABX9TyORIsi3MyNWIvpujdQ5AKss",
      "include_colab_link": true
    },
    "kernelspec": {
      "name": "python3",
      "display_name": "Python 3"
    },
    "language_info": {
      "name": "python"
    }
  },
  "cells": [
    {
      "cell_type": "markdown",
      "metadata": {
        "id": "view-in-github",
        "colab_type": "text"
      },
      "source": [
        "<a href=\"https://colab.research.google.com/github/hadagarcia/MyChatGPTExcercises/blob/main/IterativePromptDevelopment.ipynb\" target=\"_parent\"><img src=\"https://colab.research.google.com/assets/colab-badge.svg\" alt=\"Open In Colab\"/></a>"
      ]
    },
    {
      "cell_type": "code",
      "execution_count": null,
      "metadata": {
        "id": "u-DUbggljWFa"
      },
      "outputs": [],
      "source": [
        "!pip install openai\n",
        "!pip install python-dotenv"
      ]
    },
    {
      "cell_type": "code",
      "source": [
        "import openai\n",
        "import os\n",
        "\n",
        "from dotenv import load_dotenv, find_dotenv\n",
        "_ = load_dotenv(find_dotenv()) # read local .env file\n",
        "openai.api_key  = os.getenv('OPEN_API_KEY')\n",
        "print(openai.api_key)"
      ],
      "metadata": {
        "id": "eJ4jlqYmoOMH"
      },
      "execution_count": null,
      "outputs": []
    },
    {
      "cell_type": "code",
      "source": [
        "# Helper method\n",
        "def get_completion(prompt, model=\"gpt-3.5-turbo\"):\n",
        "    messages = [{\"role\": \"user\", \"content\": prompt}]\n",
        "    response = openai.ChatCompletion.create(\n",
        "        model=model,\n",
        "        messages=messages,\n",
        "        temperature=0, # this is the degree of randomness of the model's output\n",
        "    )\n",
        "    return response.choices[0].message[\"content\"]"
      ],
      "metadata": {
        "id": "I6X2h-IKpBKI"
      },
      "execution_count": 5,
      "outputs": []
    },
    {
      "cell_type": "markdown",
      "source": [
        "**Generate a marketing product description from a product fact sheet**"
      ],
      "metadata": {
        "id": "qE8rdrrepPpC"
      }
    },
    {
      "cell_type": "code",
      "source": [
        "fact_sheet_chair = \"\"\"\n",
        "OVERVIEW\n",
        "- Part of a beautiful family of mid-century inspired office furniture, \n",
        "including filing cabinets, desks, bookcases, meeting tables, and more.\n",
        "- Several options of shell color and base finishes.\n",
        "- Available with plastic back and front upholstery (SWC-100) \n",
        "or full upholstery (SWC-110) in 10 fabric and 6 leather options.\n",
        "- Base finish options are: stainless steel, matte black, \n",
        "gloss white, or chrome.\n",
        "- Chair is available with or without armrests.\n",
        "- Suitable for home or business settings.\n",
        "- Qualified for contract use.\n",
        "\n",
        "CONSTRUCTION\n",
        "- 5-wheel plastic coated aluminum base.\n",
        "- Pneumatic chair adjust for easy raise/lower action.\n",
        "\n",
        "DIMENSIONS\n",
        "- WIDTH 53 CM | 20.87”\n",
        "- DEPTH 51 CM | 20.08”\n",
        "- HEIGHT 80 CM | 31.50”\n",
        "- SEAT HEIGHT 44 CM | 17.32”\n",
        "- SEAT DEPTH 41 CM | 16.14”\n",
        "\n",
        "OPTIONS\n",
        "- Soft or hard-floor caster options.\n",
        "- Two choices of seat foam densities: \n",
        " medium (1.8 lb/ft3) or high (2.8 lb/ft3)\n",
        "- Armless or 8 position PU armrests \n",
        "\n",
        "MATERIALS\n",
        "SHELL BASE GLIDER\n",
        "- Cast Aluminum with modified nylon PA6/PA66 coating.\n",
        "- Shell thickness: 10 mm.\n",
        "SEAT\n",
        "- HD36 foam\n",
        "\n",
        "COUNTRY OF ORIGIN\n",
        "- Italy\n",
        "\"\"\""
      ],
      "metadata": {
        "id": "qAAmvqX9pRk_"
      },
      "execution_count": 6,
      "outputs": []
    },
    {
      "cell_type": "code",
      "source": [
        "prompt = f\"\"\"\n",
        "Your task is to help a marketing team create a \n",
        "description for a retail website of a product based \n",
        "on a technical fact sheet.\n",
        "\n",
        "Write a product description based on the information \n",
        "provided in the technical specifications delimited by \n",
        "triple backticks.\n",
        "\n",
        "Technical specifications: ```{fact_sheet_chair}```\n",
        "\"\"\"\n",
        "first_response = get_completion(prompt)\n",
        "print(first_response)"
      ],
      "metadata": {
        "colab": {
          "base_uri": "https://localhost:8080/"
        },
        "id": "ooMhSYj9pkZw",
        "outputId": "6a5dcad1-8f3d-4a1b-dd45-26720382f54e"
      },
      "execution_count": 10,
      "outputs": [
        {
          "output_type": "stream",
          "name": "stdout",
          "text": [
            "Introducing our stunning mid-century inspired office chair, the perfect addition to any home or business setting. Part of a beautiful family of office furniture, including filing cabinets, desks, bookcases, meeting tables, and more, this chair is available in several options of shell color and base finishes to suit your style. Choose from plastic back and front upholstery (SWC-100) or full upholstery (SWC-110) in 10 fabric and 6 leather options.\n",
            "\n",
            "The chair is constructed with a 5-wheel plastic coated aluminum base and features a pneumatic chair adjust for easy raise/lower action. It is available with or without armrests and is qualified for contract use. The base finish options are stainless steel, matte black, gloss white, or chrome.\n",
            "\n",
            "Measuring at a width of 53 cm, depth of 51 cm, and height of 80 cm, with a seat height of 44 cm and seat depth of 41 cm, this chair is designed for ultimate comfort. You can also choose between soft or hard-floor caster options and two choices of seat foam densities: medium (1.8 lb/ft3) or high (2.8 lb/ft3). The armrests are available in either an armless or 8 position PU option.\n",
            "\n",
            "The materials used in the construction of this chair are of the highest quality. The shell base glider is made of cast aluminum with modified nylon PA6/PA66 coating and has a shell thickness of 10 mm. The seat is made of HD36 foam, ensuring maximum comfort and durability.\n",
            "\n",
            "This chair is made in Italy and is the perfect combination of style and functionality. Upgrade your workspace with our mid-century inspired office chair today!\n"
          ]
        }
      ]
    },
    {
      "cell_type": "markdown",
      "source": [
        "**Issue 1: The response is too long**\n",
        "\n",
        "*   Limit the number of words/sentences/characters.\n"
      ],
      "metadata": {
        "id": "vvGn66evsyrj"
      }
    },
    {
      "cell_type": "code",
      "source": [
        "prompt = f\"\"\"\n",
        "Your task is to help a marketing team create a \n",
        "description for a retail website of a product based \n",
        "on a technical fact sheet.\n",
        "\n",
        "Write a product description based on the information \n",
        "provided in the technical specifications delimited by \n",
        "triple backticks.\n",
        "\n",
        "Use at most 50 words.\n",
        "\n",
        "Technical specifications: ```{fact_sheet_chair}```\n",
        "\"\"\"\n",
        "second_response = get_completion(prompt)\n",
        "print(second_response)"
      ],
      "metadata": {
        "colab": {
          "base_uri": "https://localhost:8080/"
        },
        "id": "nIl7QkpAs9jw",
        "outputId": "11c92825-b826-42dc-e9bf-88ac35777a5d"
      },
      "execution_count": 11,
      "outputs": [
        {
          "output_type": "stream",
          "name": "stdout",
          "text": [
            "Introducing our mid-century inspired office chair, perfect for home or business settings. Available in a range of shell colors and base finishes, with or without armrests. Choose from 10 fabric and 6 leather options for full or plastic upholstery. With a 5-wheel base and pneumatic chair adjust, it's both stylish and functional. Made in Italy.\n"
          ]
        }
      ]
    },
    {
      "cell_type": "code",
      "source": [
        "len(second_response.split(\" \"))"
      ],
      "metadata": {
        "colab": {
          "base_uri": "https://localhost:8080/"
        },
        "id": "4MFZeCLEtH_x",
        "outputId": "3eca0439-18b8-42b1-8f58-36c48129c9f7"
      },
      "execution_count": 13,
      "outputs": [
        {
          "output_type": "execute_result",
          "data": {
            "text/plain": [
              "55"
            ]
          },
          "metadata": {},
          "execution_count": 13
        }
      ]
    },
    {
      "cell_type": "markdown",
      "source": [
        "**Issue 2: Text focuses on the wrong details**\n",
        "\n",
        "\n",
        "*   Ask it to focus on the aspects that are relevant to the intended audience."
      ],
      "metadata": {
        "id": "ENbDwLwMudfp"
      }
    },
    {
      "cell_type": "code",
      "source": [
        "prompt = f\"\"\"\n",
        "Your task is to help a marketing team create a \n",
        "description for a retail website of a product based \n",
        "on a technical fact sheet.\n",
        "\n",
        "Write a product description based on the information \n",
        "provided in the technical specifications delimited by \n",
        "triple backticks.\n",
        "\n",
        "The description is intended for furniture retailers, \n",
        "so should be technical in nature and focus on the \n",
        "materials the product is constructed from.\n",
        "\n",
        "At the end of the description, include every 7-character \n",
        "Product ID in the technical specification.\n",
        "\n",
        "Use at most 50 words.\n",
        "\n",
        "Technical specifications: ```{fact_sheet_chair}```\n",
        "\"\"\"\n",
        "response_3 = get_completion(prompt)\n",
        "print(response_3)"
      ],
      "metadata": {
        "colab": {
          "base_uri": "https://localhost:8080/"
        },
        "id": "awZLK0heu2aV",
        "outputId": "fe2e41fd-45ca-4aa4-9094-1f731ee309a7"
      },
      "execution_count": 15,
      "outputs": [
        {
          "output_type": "stream",
          "name": "stdout",
          "text": [
            "Introducing our mid-century inspired office chair, perfect for home or business settings. With a range of shell colors and base finishes, and the option of plastic or full upholstery, this chair is both stylish and comfortable. Constructed with a 5-wheel plastic coated aluminum base and pneumatic chair adjust, it's also practical. Available with or without armrests and suitable for contract use. Product ID: SWC-100, SWC-110.\n"
          ]
        }
      ]
    },
    {
      "cell_type": "markdown",
      "source": [
        "**Issue 3. Description needs a table of dimensions**\n",
        "\n",
        "\n",
        "*   Ask it to extract information and organize it in a table.\n",
        "\n"
      ],
      "metadata": {
        "id": "N_obNJzlvTwn"
      }
    },
    {
      "cell_type": "code",
      "source": [
        "prompt = f\"\"\"\n",
        "Your task is to help a marketing team create a \n",
        "description for a retail website of a product based \n",
        "on a technical fact sheet.\n",
        "\n",
        "Write a product description based on the information \n",
        "provided in the technical specifications delimited by \n",
        "triple backticks.\n",
        "\n",
        "The description is intended for furniture retailers, \n",
        "so should be technical in nature and focus on the \n",
        "materials the product is constructed from.\n",
        "\n",
        "At the end of the description, include every 7-character \n",
        "Product ID in the technical specification.\n",
        "\n",
        "After the description, include a table that gives the \n",
        "product's dimensions. The table should have two columns.\n",
        "In the first column include the name of the dimension. \n",
        "In the second column include the measurements in inches only.\n",
        "\n",
        "Give the table the title 'Product Dimensions'.\n",
        "\n",
        "Format everything as HTML that can be used in a website. \n",
        "Place the description in a <div> element.\n",
        "\n",
        "Technical specifications: ```{fact_sheet_chair}```\n",
        "\"\"\"\n",
        "\n",
        "response_4 = get_completion(prompt)\n",
        "print(response_4)"
      ],
      "metadata": {
        "colab": {
          "base_uri": "https://localhost:8080/"
        },
        "id": "x1PnQLDgvaUj",
        "outputId": "b884337b-b984-4ae7-a46e-a743f9b3e6c9"
      },
      "execution_count": 20,
      "outputs": [
        {
          "output_type": "stream",
          "name": "stdout",
          "text": [
            "<div>\n",
            "<h2>Mid-Century Inspired Office Chair</h2>\n",
            "<p>Introducing our mid-century inspired office chair, part of a beautiful family of office furniture that includes filing cabinets, desks, bookcases, meeting tables, and more. This chair is available in several options of shell color and base finishes, allowing you to customize it to your liking. You can choose between plastic back and front upholstery or full upholstery in 10 fabric and 6 leather options. The base finish options are stainless steel, matte black, gloss white, or chrome. You can also choose to have armrests or not. This chair is suitable for both home and business settings and is qualified for contract use.</p>\n",
            "<p>The chair is constructed with a 5-wheel plastic coated aluminum base and features a pneumatic chair adjust for easy raise/lower action. You can also choose between soft or hard-floor caster options and two choices of seat foam densities: medium (1.8 lb/ft3) or high (2.8 lb/ft3). The armrests are available in either an armless or 8 position PU option.</p>\n",
            "<p>The shell base glider is made of cast aluminum with modified nylon PA6/PA66 coating and has a shell thickness of 10 mm. The seat is made of HD36 foam, ensuring comfort during long work hours. This chair is made in Italy.</p>\n",
            "<h3>Product ID(s): SWC-100, SWC-110</h3>\n",
            "<table>\n",
            "  <caption>Product Dimensions</caption>\n",
            "  <tr>\n",
            "    <th>Width</th>\n",
            "    <td>53 cm | 20.87\"</td>\n",
            "  </tr>\n",
            "  <tr>\n",
            "    <th>Depth</th>\n",
            "    <td>51 cm | 20.08\"</td>\n",
            "  </tr>\n",
            "  <tr>\n",
            "    <th>Height</th>\n",
            "    <td>80 cm | 31.50\"</td>\n",
            "  </tr>\n",
            "  <tr>\n",
            "    <th>Seat Height</th>\n",
            "    <td>44 cm | 17.32\"</td>\n",
            "  </tr>\n",
            "  <tr>\n",
            "    <th>Seat Depth</th>\n",
            "    <td>41 cm | 16.14\"</td>\n",
            "  </tr>\n",
            "</table>\n",
            "</div>\n"
          ]
        }
      ]
    },
    {
      "cell_type": "markdown",
      "source": [
        "**Load Python libraries to view HTML**"
      ],
      "metadata": {
        "id": "5vShdbiGvnqs"
      }
    },
    {
      "cell_type": "code",
      "source": [
        "from IPython.display import display, HTML"
      ],
      "metadata": {
        "id": "IokkhjCbvsNA"
      },
      "execution_count": null,
      "outputs": []
    },
    {
      "cell_type": "code",
      "source": [
        "display(HTML(response_4))"
      ],
      "metadata": {
        "colab": {
          "base_uri": "https://localhost:8080/",
          "height": 399
        },
        "id": "oZxqhLttwaBw",
        "outputId": "563f6aef-ee6e-43f8-b474-ed7d0063c122"
      },
      "execution_count": 21,
      "outputs": [
        {
          "output_type": "display_data",
          "data": {
            "text/plain": [
              "<IPython.core.display.HTML object>"
            ],
            "text/html": [
              "<div>\n",
              "<h2>Mid-Century Inspired Office Chair</h2>\n",
              "<p>Introducing our mid-century inspired office chair, part of a beautiful family of office furniture that includes filing cabinets, desks, bookcases, meeting tables, and more. This chair is available in several options of shell color and base finishes, allowing you to customize it to your liking. You can choose between plastic back and front upholstery or full upholstery in 10 fabric and 6 leather options. The base finish options are stainless steel, matte black, gloss white, or chrome. You can also choose to have armrests or not. This chair is suitable for both home and business settings and is qualified for contract use.</p>\n",
              "<p>The chair is constructed with a 5-wheel plastic coated aluminum base and features a pneumatic chair adjust for easy raise/lower action. You can also choose between soft or hard-floor caster options and two choices of seat foam densities: medium (1.8 lb/ft3) or high (2.8 lb/ft3). The armrests are available in either an armless or 8 position PU option.</p>\n",
              "<p>The shell base glider is made of cast aluminum with modified nylon PA6/PA66 coating and has a shell thickness of 10 mm. The seat is made of HD36 foam, ensuring comfort during long work hours. This chair is made in Italy.</p>\n",
              "<h3>Product ID(s): SWC-100, SWC-110</h3>\n",
              "<table>\n",
              "  <caption>Product Dimensions</caption>\n",
              "  <tr>\n",
              "    <th>Width</th>\n",
              "    <td>53 cm | 20.87\"</td>\n",
              "  </tr>\n",
              "  <tr>\n",
              "    <th>Depth</th>\n",
              "    <td>51 cm | 20.08\"</td>\n",
              "  </tr>\n",
              "  <tr>\n",
              "    <th>Height</th>\n",
              "    <td>80 cm | 31.50\"</td>\n",
              "  </tr>\n",
              "  <tr>\n",
              "    <th>Seat Height</th>\n",
              "    <td>44 cm | 17.32\"</td>\n",
              "  </tr>\n",
              "  <tr>\n",
              "    <th>Seat Depth</th>\n",
              "    <td>41 cm | 16.14\"</td>\n",
              "  </tr>\n",
              "</table>\n",
              "</div>"
            ]
          },
          "metadata": {}
        }
      ]
    }
  ]
}