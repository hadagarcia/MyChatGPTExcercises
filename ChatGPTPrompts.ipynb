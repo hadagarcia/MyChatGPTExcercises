{
  "nbformat": 4,
  "nbformat_minor": 0,
  "metadata": {
    "colab": {
      "provenance": [],
      "authorship_tag": "ABX9TyOcbVn4jRmQKr0WHZC36pRf",
      "include_colab_link": true
    },
    "kernelspec": {
      "name": "python3",
      "display_name": "Python 3"
    },
    "language_info": {
      "name": "python"
    }
  },
  "cells": [
    {
      "cell_type": "markdown",
      "metadata": {
        "id": "view-in-github",
        "colab_type": "text"
      },
      "source": [
        "<a href=\"https://colab.research.google.com/github/hadagarcia/MyChatGPTExcercises/blob/main/ChatGPTPrompts.ipynb\" target=\"_parent\"><img src=\"https://colab.research.google.com/assets/colab-badge.svg\" alt=\"Open In Colab\"/></a>"
      ]
    },
    {
      "cell_type": "markdown",
      "source": [
        "# **ChatGPT Prompt Engineering**\n",
        "\n",
        "\n",
        "Topics to be covered in this notebook:\n",
        "\n",
        "1. Prepare the environment.\n",
        "2. Basic principles for effective prompt inputs. *(tal vez usar como ejemplo mi plan de ejercicios InBody usando iterative prompt development)*\n",
        "3. LLM (Large Language Model) useful applications.\n",
        "\n",
        "  *   Summarize *(tal vez buscar resumir un articulo)*\n",
        "  *   Sentimental analysis *(comparacion de como lo hice antes con GoogleCloud y ahora con LLM)*\n",
        "  *   Transformation *(regional translation, tone transformation formal - informal y viceversa)*\n",
        "  *   Chatbot *(aun no se exactamente, porque quiero hacer otro notebook o even una pequeña aplicacion, pero eso es material pa otro articulo)*\n"
      ],
      "metadata": {
        "id": "Ub4v_417mMIX"
      }
    },
    {
      "cell_type": "markdown",
      "source": [
        "**1. Prepare the environment**\n",
        "\n",
        "1.1 Install and import OpenAI library.\n",
        "\n",
        "1.2 To use ChatGPT we need a secret API key, which you can get in [OpenAI portal](https://platform.openai.com/account/api-keys). Once you have the Secret API Key, the API can be added to your ENV file.\n",
        "\n",
        "1.3 Helper method"
      ],
      "metadata": {
        "id": "hG9MyAh9xcXq"
      }
    },
    {
      "cell_type": "code",
      "source": [
        "# 1.1\n",
        "!pip install openai\n",
        "!pip install python-dotenv"
      ],
      "metadata": {
        "id": "Ep0AraKZzLw8"
      },
      "execution_count": null,
      "outputs": []
    },
    {
      "cell_type": "code",
      "source": [
        "# 1.2 \n",
        "import openai\n",
        "import os\n",
        "from dotenv import load_dotenv, find_dotenv\n",
        "\n",
        "load_dotenv('[PATH]/[FILE].env')\n",
        "openai.api_key = os.getenv('OPEN_API_KEY')"
      ],
      "metadata": {
        "id": "FHgOkXs_y8vT"
      },
      "execution_count": null,
      "outputs": []
    },
    {
      "cell_type": "code",
      "source": [
        "# 1.3\n",
        "def get_completion(prompt, model=\"gpt-3.5-turbo\"):\n",
        "  messages = [{\"role\": \"user\", \"content\": prompt}]\n",
        "  response = openai.ChatCompletion.create(\n",
        "      model = model,\n",
        "      messages = messages,\n",
        "      temperature = 0, # this is the degree of randomness of the model's output\n",
        "  )\n",
        "  return response.choices[0].message[\"content\"]"
      ],
      "metadata": {
        "id": "gC-SW9431Tx3"
      },
      "execution_count": null,
      "outputs": []
    },
    {
      "cell_type": "markdown",
      "source": [
        "**2. Basic principles for effective prompt inputs.**\n",
        "\n",
        "I have learned two basic principles to implement effective prompt inputs for ChatGPT.\n",
        "\n",
        "*   Write clear and specific instructions\n",
        "*   Give the model time to \"think\"\n",
        "\n",
        "Following we can see some prompt examples that will help to clarify what we mean with these 2 principles.\n",
        "\n",
        "*(I can start with inputs to check my exercise plan, using specific instructions and iterative prompt development, dos pajaros de un tiro)*"
      ],
      "metadata": {
        "id": "rhgXrU8AxGNJ"
      }
    },
    {
      "cell_type": "code",
      "execution_count": null,
      "metadata": {
        "id": "NryrXE5el2Mz"
      },
      "outputs": [],
      "source": []
    }
  ]
}