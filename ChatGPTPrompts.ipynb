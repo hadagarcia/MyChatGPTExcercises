{
  "nbformat": 4,
  "nbformat_minor": 0,
  "metadata": {
    "colab": {
      "provenance": [],
      "authorship_tag": "ABX9TyOCyZGUulXEjwHg5nZEjNQf",
      "include_colab_link": true
    },
    "kernelspec": {
      "name": "python3",
      "display_name": "Python 3"
    },
    "language_info": {
      "name": "python"
    }
  },
  "cells": [
    {
      "cell_type": "markdown",
      "metadata": {
        "id": "view-in-github",
        "colab_type": "text"
      },
      "source": [
        "<a href=\"https://colab.research.google.com/github/hadagarcia/MyChatGPTExcercises/blob/main/ChatGPTPrompts.ipynb\" target=\"_parent\"><img src=\"https://colab.research.google.com/assets/colab-badge.svg\" alt=\"Open In Colab\"/></a>"
      ]
    },
    {
      "cell_type": "markdown",
      "source": [
        "# **ChatGPT Prompt Engineering**\n",
        "\n",
        "\n",
        "Topics to be covered in this notebook:\n",
        "\n",
        "1. Prepare the environment.\n",
        "2. Basic principles for effective prompt inputs.\n",
        "3. LLM (Large Language Model) useful applications.\n"
      ],
      "metadata": {
        "id": "Ub4v_417mMIX"
      }
    },
    {
      "cell_type": "markdown",
      "source": [
        "**1. Prepare the environment**\n",
        "\n",
        "1.1 Install and import OpenAI library.\n",
        "\n",
        "1.2 To use ChatGPT we need a secret API key, which you can get in [OpenAI portal](https://platform.openai.com/account/api-keys). Once you have the Secret API Key, the API can be added to your ENV file."
      ],
      "metadata": {
        "id": "hG9MyAh9xcXq"
      }
    },
    {
      "cell_type": "code",
      "source": [],
      "metadata": {
        "id": "Ep0AraKZzLw8"
      },
      "execution_count": null,
      "outputs": []
    },
    {
      "cell_type": "code",
      "source": [],
      "metadata": {
        "id": "FHgOkXs_y8vT"
      },
      "execution_count": null,
      "outputs": []
    },
    {
      "cell_type": "markdown",
      "source": [
        "**2. Basic principles for effective prompt inputs.**\n",
        "\n",
        "I have learned two basic principles to implement effective prompt inputs for ChatGPT.\n",
        "\n",
        "*   Write clear and specific instructions\n",
        "*   Give the model time to \"think\"\n",
        "\n",
        "Following next we can see some prompt examples that will help to clarify what we mean with these 2 principles."
      ],
      "metadata": {
        "id": "rhgXrU8AxGNJ"
      }
    },
    {
      "cell_type": "code",
      "execution_count": null,
      "metadata": {
        "id": "NryrXE5el2Mz"
      },
      "outputs": [],
      "source": []
    }
  ]
}