{
  "nbformat": 4,
  "nbformat_minor": 0,
  "metadata": {
    "colab": {
      "provenance": [],
      "authorship_tag": "ABX9TyOMY/RDv8UzkXmmS0bsuXqv",
      "include_colab_link": true
    },
    "kernelspec": {
      "name": "python3",
      "display_name": "Python 3"
    },
    "language_info": {
      "name": "python"
    }
  },
  "cells": [
    {
      "cell_type": "markdown",
      "metadata": {
        "id": "view-in-github",
        "colab_type": "text"
      },
      "source": [
        "<a href=\"https://colab.research.google.com/github/hadagarcia/MyChatGPTExcercises/blob/main/ChatGPTPrompts.ipynb\" target=\"_parent\"><img src=\"https://colab.research.google.com/assets/colab-badge.svg\" alt=\"Open In Colab\"/></a>"
      ]
    },
    {
      "cell_type": "markdown",
      "source": [
        "# **ChatGPT Prompt Engineering**\n",
        "\n",
        "\n",
        "Topics to be covered in this notebook:\n",
        "\n",
        "1. Prepare the environment.\n",
        "2. Basic principles for effective prompt inputs. *(tal vez usar como ejemplo mi plan de ejercicios InBody usando iterative prompt development)*\n",
        "3. LLM (Large Language Model) useful applications.\n",
        "\n",
        "  *   Summarize *(tal vez buscar resumir un articulo)*\n",
        "  *   Sentimental analysis *(comparacion de como lo hice antes con GoogleCloud y ahora con LLM)*\n",
        "  *   Transformation *(regional translation, tone transformation formal - informal y viceversa)*\n",
        "  *   Chatbot *(aun no se exactamente, porque quiero hacer otro notebook o even una pequeña aplicacion, pero eso es material pa otro articulo)*\n"
      ],
      "metadata": {
        "id": "Ub4v_417mMIX"
      }
    },
    {
      "cell_type": "markdown",
      "source": [
        "**1. Prepare the environment**\n",
        "\n",
        "1.1 Install and import OpenAI library.\n",
        "\n",
        "1.2 To use ChatGPT we need a secret API key, which you can get in [OpenAI portal](https://platform.openai.com/account/api-keys). Once you have the Secret API Key, the API can be added to your ENV file.\n",
        "\n",
        "1.3 Helper method"
      ],
      "metadata": {
        "id": "hG9MyAh9xcXq"
      }
    },
    {
      "cell_type": "code",
      "source": [
        "# 1.1\n",
        "!pip install openai\n",
        "!pip install python-dotenv"
      ],
      "metadata": {
        "id": "Ep0AraKZzLw8"
      },
      "execution_count": null,
      "outputs": []
    },
    {
      "cell_type": "code",
      "source": [
        "# 1.2\n",
        "import openai\n",
        "import os\n",
        "from dotenv import load_dotenv, find_dotenv\n",
        "\n",
        "# load_dotenv('[PATH]/[FILE].env')\n",
        "load_dotenv('/content/sample_data/mis_llaves.env')\n",
        "openai.api_key = os.getenv('OPEN_API_KEY')"
      ],
      "metadata": {
        "id": "FHgOkXs_y8vT"
      },
      "execution_count": 2,
      "outputs": []
    },
    {
      "cell_type": "code",
      "source": [
        "# 1.3\n",
        "def get_completion(prompt, model=\"gpt-3.5-turbo\"):\n",
        "  messages = [{\"role\": \"user\", \"content\": prompt}]\n",
        "  response = openai.ChatCompletion.create(\n",
        "      model = model,\n",
        "      messages = messages,\n",
        "      temperature = 0, # this is the degree of randomness of the model's output\n",
        "  )\n",
        "  return response.choices[0].message[\"content\"]"
      ],
      "metadata": {
        "id": "gC-SW9431Tx3"
      },
      "execution_count": 3,
      "outputs": []
    },
    {
      "cell_type": "markdown",
      "source": [
        "**2. Basic principles for effective prompt inputs.**\n",
        "\n",
        "I have learned two basic principles to implement effective prompt inputs for ChatGPT.\n",
        "\n",
        "*   Write clear and specific instructions\n",
        "*   Give the model time to \"think\"\n",
        "\n",
        "Following we can see some prompt examples that will help to clarify what we mean with these 2 principles.\n",
        "\n",
        "*(I can start with inputs to check my exercise plan, using specific instructions and iterative prompt development, dos pajaros de un tiro)*"
      ],
      "metadata": {
        "id": "rhgXrU8AxGNJ"
      }
    },
    {
      "cell_type": "code",
      "execution_count": 4,
      "metadata": {
        "id": "NryrXE5el2Mz",
        "colab": {
          "base_uri": "https://localhost:8080/"
        },
        "outputId": "0256286b-3903-4183-c6f9-88cc384deed1"
      },
      "outputs": [
        {
          "output_type": "stream",
          "name": "stdout",
          "text": [
            "To guide a model towards the desired output and reduce irrelevant or incorrect responses, it is important to provide clear and specific instructions, which can be achieved through longer prompts that offer more clarity and context.\n"
          ]
        }
      ],
      "source": [
        "# Example 1\n",
        "\n",
        "text = f\"\"\"\n",
        "You should express what you want a model to do by \\\n",
        "providing instructions that are as clear and \\\n",
        "specific as you can possibly make them. \\\n",
        "This will guide the model towards the desired output, \\\n",
        "and reduce the chances of receiving irrelevant \\\n",
        "or incorrect responses. Don't confuse writing a \\\n",
        "clear prompt with writing a short prompt. \\\n",
        "In many cases, longer prompts provide more clarity \\\n",
        "and context for the model, which can lead to \\\n",
        "more detailed and relevant outputs.\n",
        "\"\"\"\n",
        "prompt = f\"\"\"\n",
        "Summarize the text delimited by triple backticks \\\n",
        "into a single sentence.\n",
        "```{text}```\n",
        "\"\"\"\n",
        "response = get_completion(prompt)\n",
        "print(response)"
      ]
    },
    {
      "cell_type": "code",
      "source": [
        "# Example 2\n",
        "\n",
        "text = f\"\"\"\n",
        "Did you know that every 1 in 6 persons in this world have some kind of \\\n",
        "disability? Probably all of us know at least one person in this situation.\\\n",
        "Moreover, we all could suffer from a temporary disability at some point. \\\n",
        "We all will get old and that is when some disabilities will start to appear.\\\n",
        "Some disabilities are visible and obvious while others are hidden at first \\\n",
        "sight, thus we don’t consider the needs of these persons. To mention some\\\n",
        "of them: Colorblindness, Deafness, or hard-of-hearing, some cognitive \\\n",
        "disabilities like dyslexia, or seizure disabilities like photo sensitiveness\\\n",
        "or general seizure disorders. Since they are not perceivable, it’s believed\\\n",
        "they are not so important or are part of a big minority.\n",
        "\"\"\"\n",
        "\n",
        "prompt_1 = f\"\"\"\n",
        "Perform the following actions:\n",
        "1 - Translate the the following text delimited by triple \\\n",
        "backticks into Spanish.\n",
        "2 - List each disability mentioned in the Spanish translation.\n",
        "3 - Output a json object that contains the following \\\n",
        "keys: num_disabilities, disability_names.\n",
        "\n",
        "Separate your answers with line breaks.\n",
        "\n",
        "Text:\n",
        "```{text}```\n",
        "\"\"\"\n",
        "response = get_completion(prompt_1)\n",
        "print(\"Completion for prompt 1:\")\n",
        "print(response)"
      ],
      "metadata": {
        "colab": {
          "base_uri": "https://localhost:8080/"
        },
        "id": "tzFQUnNlzLgH",
        "outputId": "27ed7f7e-ce80-4f72-c532-22353dade561"
      },
      "execution_count": 10,
      "outputs": [
        {
          "output_type": "stream",
          "name": "stdout",
          "text": [
            "Completion for prompt 1:\n",
            "1 - Spanish Translation:\n",
            "```\n",
            "¿Sabías que 1 de cada 6 personas en este mundo tiene algún tipo de discapacidad? Probablemente todos conocemos al menos a una persona en esta situación. Además, todos podríamos sufrir una discapacidad temporal en algún momento. Todos envejeceremos y es entonces cuando algunas discapacidades comenzarán a aparecer. Algunas discapacidades son visibles y obvias, mientras que otras están ocultas a primera vista, por lo que no consideramos las necesidades de estas personas. Para mencionar algunas de ellas: Daltonismo, Sordera o dificultad auditiva, algunas discapacidades cognitivas como la dislexia, o discapacidades de convulsiones como la fotosensibilidad o trastornos generales de convulsiones. Debido a que no son perceptibles, se cree que no son tan importantes o que forman parte de una gran minoría.\n",
            "```\n",
            "\n",
            "2 - Disabilities mentioned in the Spanish translation:\n",
            "- Daltonismo (Colorblindness)\n",
            "- Sordera o dificultad auditiva (Deafness or hard-of-hearing)\n",
            "- Discapacidades cognitivas (Cognitive disabilities)\n",
            "- Dislexia (Dyslexia)\n",
            "- Discapacidades de convulsiones (Seizure disabilities)\n",
            "- Fotosensibilidad o trastornos generales de convulsiones (Photo sensitiveness or general seizure disorders)\n",
            "\n",
            "3 - JSON object:\n",
            "```\n",
            "{\n",
            "  \"num_disabilities\": 6,\n",
            "  \"disability_names\": [\n",
            "    \"Daltonismo\",\n",
            "    \"Sordera o dificultad auditiva\",\n",
            "    \"Discapacidades cognitivas\",\n",
            "    \"Dislexia\",\n",
            "    \"Discapacidades de convulsiones\",\n",
            "    \"Fotosensibilidad o trastornos generales de convulsiones\"\n",
            "  ]\n",
            "}\n",
            "```\n"
          ]
        }
      ]
    }
  ]
}