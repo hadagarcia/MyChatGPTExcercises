{
  "nbformat": 4,
  "nbformat_minor": 0,
  "metadata": {
    "colab": {
      "provenance": [],
      "authorship_tag": "ABX9TyMUoLg4Qd9yKWh+i51ukCng",
      "include_colab_link": true
    },
    "kernelspec": {
      "name": "python3",
      "display_name": "Python 3"
    },
    "language_info": {
      "name": "python"
    }
  },
  "cells": [
    {
      "cell_type": "markdown",
      "metadata": {
        "id": "view-in-github",
        "colab_type": "text"
      },
      "source": [
        "<a href=\"https://colab.research.google.com/github/hadagarcia/MyChatGPTExcercises/blob/main/TransformingPrompts.ipynb\" target=\"_parent\"><img src=\"https://colab.research.google.com/assets/colab-badge.svg\" alt=\"Open In Colab\"/></a>"
      ]
    },
    {
      "cell_type": "markdown",
      "source": [
        "# **Transforming**\n",
        "\n",
        "Using Large Language Models (LLM) for text transformation tasks such as language translation, spelling and grammar checking, tone adjustment and format conversion."
      ],
      "metadata": {
        "id": "_aw9yMcXylpn"
      }
    },
    {
      "cell_type": "markdown",
      "source": [
        "First let's setup the environment:"
      ],
      "metadata": {
        "id": "txpsTFily441"
      }
    },
    {
      "cell_type": "code",
      "execution_count": null,
      "metadata": {
        "id": "Fo2luW1DyiCb"
      },
      "outputs": [],
      "source": [
        "!pip install openai\n",
        "!pip install python-dotenv\n",
        "\n",
        "import openai\n",
        "import os"
      ]
    },
    {
      "cell_type": "code",
      "source": [
        "from dotenv import load_dotenv, find_dotenv\n",
        "_ = load_dotenv(find_dotenv()) # read local .env file\n",
        "openai.api_key  = os.getenv('OPEN_API_KEY')"
      ],
      "metadata": {
        "id": "slqbpXTBzJCM"
      },
      "execution_count": null,
      "outputs": []
    },
    {
      "cell_type": "code",
      "source": [
        "# Helper method\n",
        "def get_completion(prompt, model=\"gpt-3.5-turbo\"):\n",
        "    messages = [{\"role\": \"user\", \"content\": prompt}]\n",
        "    response = openai.ChatCompletion.create(\n",
        "        model=model,\n",
        "        messages=messages,\n",
        "        temperature=0, # this is the degree of randomness of the model's output\n",
        "    )\n",
        "    return response.choices[0].message[\"content\"]"
      ],
      "metadata": {
        "id": "oWJirVwFz0mK"
      },
      "execution_count": 3,
      "outputs": []
    },
    {
      "cell_type": "markdown",
      "source": [
        "**Translation**\n",
        "\n",
        "*No me impresionó mucho pero algunas implementaciones tal vez sí*"
      ],
      "metadata": {
        "id": "kuSITZ0uz_nY"
      }
    },
    {
      "cell_type": "code",
      "source": [
        "prompt = f\"\"\"\n",
        "Translate the following English text to Spanish: \\ \n",
        "```Hi, I would like to get some fresh avocados```\n",
        "\"\"\"\n",
        "response = get_completion(prompt)\n",
        "print(response)"
      ],
      "metadata": {
        "colab": {
          "base_uri": "https://localhost:8080/"
        },
        "id": "sdQ_ITmm0QPk",
        "outputId": "cd263ef2-ab35-4f0c-8345-18d362f2ac14"
      },
      "execution_count": 4,
      "outputs": [
        {
          "output_type": "stream",
          "name": "stdout",
          "text": [
            "Hola, me gustaría conseguir algunos aguacates frescos.\n"
          ]
        }
      ]
    },
    {
      "cell_type": "code",
      "source": [
        "prompt = f\"\"\"\n",
        "Tell me which language this is: \n",
        "```eu gostaria muito de te conhecer```\n",
        "\"\"\"\n",
        "response = get_completion(prompt)\n",
        "print(response)"
      ],
      "metadata": {
        "colab": {
          "base_uri": "https://localhost:8080/"
        },
        "id": "bh_oxqaz0mJa",
        "outputId": "e6ea3f08-9bd0-4401-b938-cc004c132edb"
      },
      "execution_count": 5,
      "outputs": [
        {
          "output_type": "stream",
          "name": "stdout",
          "text": [
            "This is Portuguese.\n"
          ]
        }
      ]
    },
    {
      "cell_type": "code",
      "source": [
        "prompt = f\"\"\"\n",
        "Translate the following text to Spanish from Mexico and Spanish from Argentina: \\\n",
        "'Can I borrow your t-shirt for tomorrow?'\n",
        "\"\"\"\n",
        "\n",
        "response = get_completion(prompt)\n",
        "print(response)"
      ],
      "metadata": {
        "colab": {
          "base_uri": "https://localhost:8080/"
        },
        "id": "YWn7_Bm71N5u",
        "outputId": "13c77f41-5d0c-4a37-a7e3-ac6953faf0c7"
      },
      "execution_count": 8,
      "outputs": [
        {
          "output_type": "stream",
          "name": "stdout",
          "text": [
            "Mexico: ¿Me prestas tu playera para mañana?\n",
            "Argentina: ¿Me prestás tu remera para mañana?\n"
          ]
        }
      ]
    },
    {
      "cell_type": "code",
      "source": [
        "prompt = f\"\"\"\n",
        "Translate the following text to Spanish from Mexico and Spanish from Spain: \\\n",
        "'I will take the bus to go to school'\n",
        "\"\"\"\n",
        "\n",
        "response = get_completion(prompt)\n",
        "print(response)"
      ],
      "metadata": {
        "colab": {
          "base_uri": "https://localhost:8080/"
        },
        "id": "89WGo85E2DAC",
        "outputId": "22db5f3a-228a-4e9a-f22e-0cd0d485bf83"
      },
      "execution_count": 7,
      "outputs": [
        {
          "output_type": "stream",
          "name": "stdout",
          "text": [
            "Spanish from Mexico: Tomaré el autobús para ir a la escuela.\n",
            "Spanish from Spain: Cogeré el autobús para ir al colegio.\n"
          ]
        }
      ]
    },
    {
      "cell_type": "markdown",
      "source": [
        "**Universal Translator**\n",
        "\n",
        "Imagine you are in charge of IT at a large multinational e-commerce company. Users are messaging you with IT issues in all their native languages. Your staff is from all over the world and speals only their native language. You need an universal translator!"
      ],
      "metadata": {
        "id": "97gpZmz43BgE"
      }
    },
    {
      "cell_type": "code",
      "source": [
        "user_messages = [\n",
        "  \"Il mio mouse non funziona\",      # My mouse is not working\n",
        "  \"Mój klawisz Ctrl jest zepsuty\",  # My keyboard has a broken control key\n",
        "  \"我的屏幕在闪烁\"                   # My screen is flashing\n",
        "]"
      ],
      "metadata": {
        "id": "j4WQujgI3bwv"
      },
      "execution_count": 11,
      "outputs": []
    },
    {
      "cell_type": "code",
      "source": [
        "for issue in user_messages:\n",
        "    prompt = f\"\"\"Tell me what language this text is written. \\\n",
        "    After the text has been identified translate it to \\\n",
        "    English and Korean: ```{issue}```\n",
        "\n",
        "    Once you finished, use this format to give the answer:\n",
        "    Original language = \n",
        "    English translation =\n",
        "    Korean translation = \n",
        "    \"\"\"\n",
        "    response = get_completion(prompt)\n",
        "    print(response, \"\\n\")"
      ],
      "metadata": {
        "colab": {
          "base_uri": "https://localhost:8080/"
        },
        "id": "2XZ9xqaO3mfb",
        "outputId": "e1c24a97-0f32-4767-bba7-3c76cb42c039"
      },
      "execution_count": 12,
      "outputs": [
        {
          "output_type": "stream",
          "name": "stdout",
          "text": [
            "Original language = Italian\n",
            "English translation = My mouse is not working\n",
            "Korean translation = 내 마우스가 작동하지 않습니다 \n",
            "\n",
            "Original language = Polish\n",
            "English translation = My Ctrl key is broken\n",
            "Korean translation = 내 Ctrl 키가 고장 났어요 \n",
            "\n",
            "Original language = Chinese\n",
            "English translation = My screen is flickering\n",
            "Korean translation = 내 화면이 깜빡입니다 \n",
            "\n"
          ]
        }
      ]
    },
    {
      "cell_type": "markdown",
      "source": [
        "**Tone transformation**\n",
        "\n",
        "\n",
        "Writing can be vary based on the intended audience. ChatGPT can produce different tones."
      ],
      "metadata": {
        "id": "kig48HqZ58YW"
      }
    },
    {
      "cell_type": "code",
      "source": [
        "prompt = f\"\"\"\n",
        "Translate the following text from formal to a very informal expression:\n",
        "'이 책을 한번 읽어주세요'\"\"\"\n",
        "\n",
        "response = get_completion(prompt)\n",
        "print(response)"
      ],
      "metadata": {
        "colab": {
          "base_uri": "https://localhost:8080/"
        },
        "id": "BDQCLqR36fww",
        "outputId": "c00bb7cf-57b5-463b-8edb-95a0a98a3739"
      },
      "execution_count": 15,
      "outputs": [
        {
          "output_type": "stream",
          "name": "stdout",
          "text": [
            "'이 책 좀 읽어봐!'\n"
          ]
        }
      ]
    },
    {
      "cell_type": "code",
      "source": [
        "prompt = f\"\"\"\n",
        "Translate the following from slang to a business letter: \n",
        "'Dude, This is Joe, check out this spec on this standing lamp.'\n",
        "\"\"\"\n",
        "response = get_completion(prompt)\n",
        "print(response)"
      ],
      "metadata": {
        "colab": {
          "base_uri": "https://localhost:8080/"
        },
        "id": "sGKrqD-B6HOX",
        "outputId": "6b120032-6137-4c98-fddc-5b56a42e53d4"
      },
      "execution_count": 13,
      "outputs": [
        {
          "output_type": "stream",
          "name": "stdout",
          "text": [
            "Dear Sir/Madam,\n",
            "\n",
            "I am writing to bring to your attention a standing lamp that I believe may be of interest to you. Please find attached the specifications for your review.\n",
            "\n",
            "Thank you for your time and consideration.\n",
            "\n",
            "Sincerely,\n",
            "\n",
            "Joe\n"
          ]
        }
      ]
    },
    {
      "cell_type": "markdown",
      "source": [
        "**Format Conversion**\n",
        "\n",
        "\n",
        "ChatGPT can translate between formats. The prompt should describe the input and output formats."
      ],
      "metadata": {
        "id": "7hiIfSqm--Q0"
      }
    },
    {
      "cell_type": "code",
      "source": [
        "data_json = { \"resturant employees\" :[ \n",
        "    {\"name\":\"Shyam\", \"email\":\"shyamjaiswal@gmail.com\"},\n",
        "    {\"name\":\"Bob\", \"email\":\"bob32@gmail.com\"},\n",
        "    {\"name\":\"Jai\", \"email\":\"jai87@gmail.com\"}\n",
        "]}\n",
        "\n",
        "prompt = f\"\"\"\n",
        "Translate the following python dictionary from JSON to an HTML \\\n",
        "table with column headers and title. Also make sure the table \\\n",
        "follows Web Accessibility standards: {data_json}\n",
        "\"\"\"\n",
        "response = get_completion(prompt)\n",
        "print(response)"
      ],
      "metadata": {
        "colab": {
          "base_uri": "https://localhost:8080/"
        },
        "id": "MmLdN9W8_IJb",
        "outputId": "b896373d-15ed-43c7-d866-9cdea6970b25"
      },
      "execution_count": 18,
      "outputs": [
        {
          "output_type": "stream",
          "name": "stdout",
          "text": [
            "<table>\n",
            "  <caption>Restaurant Employees</caption>\n",
            "  <thead>\n",
            "    <tr>\n",
            "      <th scope=\"col\">Name</th>\n",
            "      <th scope=\"col\">Email</th>\n",
            "    </tr>\n",
            "  </thead>\n",
            "  <tbody>\n",
            "    <tr>\n",
            "      <td>Shyam</td>\n",
            "      <td>shyamjaiswal@gmail.com</td>\n",
            "    </tr>\n",
            "    <tr>\n",
            "      <td>Bob</td>\n",
            "      <td>bob32@gmail.com</td>\n",
            "    </tr>\n",
            "    <tr>\n",
            "      <td>Jai</td>\n",
            "      <td>jai87@gmail.com</td>\n",
            "    </tr>\n",
            "  </tbody>\n",
            "</table>\n"
          ]
        }
      ]
    },
    {
      "cell_type": "markdown",
      "source": [
        "ChatGPT added even the scope attribute to the columns, so it can be accessible to Screen Readers! :O"
      ],
      "metadata": {
        "id": "wunsYGN0_5P6"
      }
    },
    {
      "cell_type": "markdown",
      "source": [
        "Now let's visualize with this Python Library:"
      ],
      "metadata": {
        "id": "_2XqB45jAH11"
      }
    },
    {
      "cell_type": "code",
      "source": [
        "from IPython.display import display, Markdown, Latex, HTML, JSON\n",
        "display(HTML(response))"
      ],
      "metadata": {
        "colab": {
          "base_uri": "https://localhost:8080/",
          "height": 120
        },
        "id": "WlvEFg9eANJq",
        "outputId": "81360fe7-2496-4d2d-e58f-af8e5c860829"
      },
      "execution_count": 19,
      "outputs": [
        {
          "output_type": "display_data",
          "data": {
            "text/plain": [
              "<IPython.core.display.HTML object>"
            ],
            "text/html": [
              "<table>\n",
              "  <caption>Restaurant Employees</caption>\n",
              "  <thead>\n",
              "    <tr>\n",
              "      <th scope=\"col\">Name</th>\n",
              "      <th scope=\"col\">Email</th>\n",
              "    </tr>\n",
              "  </thead>\n",
              "  <tbody>\n",
              "    <tr>\n",
              "      <td>Shyam</td>\n",
              "      <td>shyamjaiswal@gmail.com</td>\n",
              "    </tr>\n",
              "    <tr>\n",
              "      <td>Bob</td>\n",
              "      <td>bob32@gmail.com</td>\n",
              "    </tr>\n",
              "    <tr>\n",
              "      <td>Jai</td>\n",
              "      <td>jai87@gmail.com</td>\n",
              "    </tr>\n",
              "  </tbody>\n",
              "</table>"
            ]
          },
          "metadata": {}
        }
      ]
    },
    {
      "cell_type": "markdown",
      "source": [
        "**Spellcheck/Grammar check.**\n",
        "\n",
        "\n",
        "Here are some examples of common grammar and spelling problems and the LLM's response.\n",
        "\n",
        "To signal to the LLM that you want it to proofread your text, you instruct the model to 'proofread' or 'proofread and correct'."
      ],
      "metadata": {
        "id": "q0wfSG9UAWFR"
      }
    },
    {
      "cell_type": "code",
      "source": [
        "text = [ \n",
        "  \"Their goes my freedom. There going to bring they’re suitcases.\",  # Homonyms\n",
        "  \"That medicine effects my ability to sleep. Have you heard of the butterfly affect?\", # Homonyms\n",
        "  \"This phrase is to check chatGPT for spelling ability\"  # ok\n",
        "]\n",
        "for t in text:\n",
        "    prompt = f\"\"\"Proofread and correct the following text\n",
        "    and rewrite the corrected version. If you don't find\n",
        "    any errors, just say \"No errors found\". Don't use \n",
        "    any punctuation around the text:\n",
        "    ```{t}```\"\"\"\n",
        "    response = get_completion(prompt)\n",
        "    print(response)"
      ],
      "metadata": {
        "colab": {
          "base_uri": "https://localhost:8080/"
        },
        "id": "sHWS2ugUBCMS",
        "outputId": "aa09ef4f-5daa-4c9a-8a9f-ef4889c3e309"
      },
      "execution_count": 28,
      "outputs": [
        {
          "output_type": "stream",
          "name": "stdout",
          "text": [
            "Their goes my freedom. There going to bring they're suitcases.\n",
            "\n",
            "Corrected version: \n",
            "There goes my freedom. They're going to bring their suitcases.\n",
            "That medicine affects my ability to sleep. Have you heard of the butterfly effect?\n",
            "No errors found.\n"
          ]
        }
      ]
    },
    {
      "cell_type": "code",
      "source": [
        "text = f\"\"\"\n",
        "Got this for my daughter for her birthday cuz she keeps taking \\\n",
        "mine from my room.  Yes, adults also like pandas too.  She takes \\\n",
        "it everywhere with her, and it's super soft and cute.  One of the \\\n",
        "ears is a bit lower than the other, and I don't think that was \\\n",
        "designed to be asymmetrical. It's a bit small for what I paid for it \\\n",
        "though. I think there might be other options that are bigger for \\\n",
        "the same price.  It arrived a day earlier than expected, so I got \\\n",
        "to play with it myself before I gave it to my daughter.\n",
        "\"\"\"\n",
        "prompt = f\"proofread and correct this review: ```{text}```\"\n",
        "response = get_completion(prompt)\n",
        "display(Markdown(response))"
      ],
      "metadata": {
        "colab": {
          "base_uri": "https://localhost:8080/",
          "height": 98
        },
        "id": "PEEzM9n_Ff6e",
        "outputId": "7a37fa14-efe9-4f50-f98c-aedcfd77a8fb"
      },
      "execution_count": 35,
      "outputs": [
        {
          "output_type": "display_data",
          "data": {
            "text/plain": [
              "<IPython.core.display.Markdown object>"
            ],
            "text/markdown": "I got this for my daughter's birthday because she keeps taking mine from my room. Yes, adults also like pandas too. She takes it everywhere with her, and it's super soft and cute. However, one of the ears is a bit lower than the other, and I don't think that was designed to be asymmetrical. Additionally, it's a bit small for what I paid for it. I think there might be other options that are bigger for the same price. On the positive side, it arrived a day earlier than expected, so I got to play with it myself before I gave it to my daughter."
          },
          "metadata": {}
        }
      ]
    },
    {
      "cell_type": "markdown",
      "source": [
        "Let's visualize the corrections using this Library:"
      ],
      "metadata": {
        "id": "3ZJlqL4EFrIG"
      }
    },
    {
      "cell_type": "code",
      "source": [
        "# Test this later, couldn't import the library...\n",
        "from redlines import Redlines\n",
        "\n",
        "diff = Redlines(text,response)\n",
        "display(Markdown(diff.output_markdown))"
      ],
      "metadata": {
        "id": "CTv4yd_bFw14"
      },
      "execution_count": null,
      "outputs": []
    },
    {
      "cell_type": "code",
      "source": [
        "prompt = f\"\"\"\n",
        "proofread and correct this review. Make it more compelling. \n",
        "Ensure it follows APA style guide and targets an advanced reader. \n",
        "Output in markdown format.\n",
        "Text: ```{text}```\n",
        "\"\"\"\n",
        "response = get_completion(prompt)\n",
        "display(Markdown(response))"
      ],
      "metadata": {
        "colab": {
          "base_uri": "https://localhost:8080/",
          "height": 302
        },
        "id": "OJWEPFXHH3nc",
        "outputId": "7c1b266a-520c-48c7-9d6a-7a9a1ea6c02a"
      },
      "execution_count": 33,
      "outputs": [
        {
          "output_type": "display_data",
          "data": {
            "text/plain": [
              "<IPython.core.display.Markdown object>"
            ],
            "text/markdown": "Title: A Soft and Cute Panda Plush Toy for All Ages\n\nIntroduction:\nAs a parent, finding the perfect gift for your child's birthday can be a daunting task. However, I stumbled upon a soft and cute panda plush toy that not only made my daughter happy but also brought joy to me as an adult. In this review, I will share my experience with this product and provide an honest assessment of its features.\n\nProduct Description:\nThe panda plush toy is made of high-quality materials that make it super soft and cuddly. Its cute design is perfect for children and adults alike, making it a versatile gift option. The toy is small enough to carry around, making it an ideal companion for your child on their adventures.\n\nPros:\nThe panda plush toy is incredibly soft and cute, making it an excellent gift for children and adults. Its small size makes it easy to carry around, and its design is perfect for snuggling. The toy arrived a day earlier than expected, which was a pleasant surprise.\n\nCons:\nOne of the ears is a bit lower than the other, which makes the toy asymmetrical. Additionally, the toy is a bit small for its price, and there might be other options that are bigger for the same price.\n\nConclusion:\nOverall, the panda plush toy is an excellent gift option for children and adults who love cute and cuddly toys. Despite its small size and asymmetrical design, the toy's softness and cuteness make up for its shortcomings. I highly recommend this product to anyone looking for a versatile and adorable gift option."
          },
          "metadata": {}
        }
      ]
    }
  ]
}